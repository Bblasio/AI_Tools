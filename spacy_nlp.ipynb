{
  "nbformat": 4,
  "nbformat_minor": 0,
  "metadata": {
    "colab": {
      "provenance": []
    },
    "kernelspec": {
      "name": "python3",
      "display_name": "Python 3"
    },
    "language_info": {
      "name": "python"
    }
  },
  "cells": [
    {
      "cell_type": "code",
      "execution_count": 1,
      "metadata": {
        "colab": {
          "base_uri": "https://localhost:8080/",
          "height": 660
        },
        "id": "OaG-Nk0H7JdO",
        "outputId": "18c0f0c8-42a4-442f-c7c2-6434d90dd3d1"
      },
      "outputs": [
        {
          "output_type": "stream",
          "name": "stdout",
          "text": [
            "🔍 Named Entity Recognition Results:\n",
            "\n",
            "Review: I love my new Samsung Galaxy phone. The camera quality is amazing!\n",
            " - Samsung Galaxy (ORG)\n",
            "--------------------------------------------------\n",
            "Review: This Apple MacBook Pro is overpriced and the battery life is disappointing.\n",
            "--------------------------------------------------\n",
            "Review: Sony headphones deliver incredible sound for the price.\n",
            " - Sony (ORG)\n",
            "--------------------------------------------------\n",
            "Review: The Dell laptop runs smoothly and is perfect for work.\n",
            " - Dell (ORG)\n",
            "--------------------------------------------------\n",
            "Review: I'm unhappy with this Lenovo tablet — it's very slow.\n",
            " - Lenovo (ORG)\n",
            "--------------------------------------------------\n",
            "\n",
            "💬 Sentiment Analysis Results:\n",
            "\n",
            "Review: I love my new Samsung Galaxy phone. The camera quality is amazing!\n",
            " → Sentiment: Positive 😊\n",
            "--------------------------------------------------\n",
            "Review: This Apple MacBook Pro is overpriced and the battery life is disappointing.\n",
            " → Sentiment: Negative 😞\n",
            "--------------------------------------------------\n",
            "Review: Sony headphones deliver incredible sound for the price.\n",
            " → Sentiment: Positive 😊\n",
            "--------------------------------------------------\n",
            "Review: The Dell laptop runs smoothly and is perfect for work.\n",
            " → Sentiment: Positive 😊\n",
            "--------------------------------------------------\n",
            "Review: I'm unhappy with this Lenovo tablet — it's very slow.\n",
            " → Sentiment: Negative 😞\n",
            "--------------------------------------------------\n"
          ]
        },
        {
          "output_type": "display_data",
          "data": {
            "text/plain": [
              "<IPython.core.display.HTML object>"
            ],
            "text/html": [
              "<span class=\"tex2jax_ignore\"><div class=\"entities\" style=\"line-height: 2.5; direction: ltr\">I love my new \n",
              "<mark class=\"entity\" style=\"background: #7aecec; padding: 0.45em 0.6em; margin: 0 0.25em; line-height: 1; border-radius: 0.35em;\">\n",
              "    Samsung Galaxy\n",
              "    <span style=\"font-size: 0.8em; font-weight: bold; line-height: 1; border-radius: 0.35em; vertical-align: middle; margin-left: 0.5rem\">ORG</span>\n",
              "</mark>\n",
              " phone. The camera quality is amazing!</div></span>"
            ]
          },
          "metadata": {}
        },
        {
          "output_type": "display_data",
          "data": {
            "text/plain": [
              "<IPython.core.display.HTML object>"
            ]
          },
          "metadata": {}
        }
      ],
      "source": [
        "# ============================================\n",
        "# 🧠 TASK 3: NLP with spaCy\n",
        "# Dataset: Amazon-style Product Reviews\n",
        "# ============================================\n",
        "\n",
        "# Step 1: Install and Import spaCy\n",
        "!pip install spacy -q\n",
        "\n",
        "import spacy\n",
        "from spacy import displacy\n",
        "\n",
        "# Step 2: Load English NLP Model\n",
        "nlp = spacy.load(\"en_core_web_sm\")\n",
        "\n",
        "# Step 3: Define Sample Reviews\n",
        "reviews = [\n",
        "    \"I love my new Samsung Galaxy phone. The camera quality is amazing!\",\n",
        "    \"This Apple MacBook Pro is overpriced and the battery life is disappointing.\",\n",
        "    \"Sony headphones deliver incredible sound for the price.\",\n",
        "    \"The Dell laptop runs smoothly and is perfect for work.\",\n",
        "    \"I'm unhappy with this Lenovo tablet — it's very slow.\"\n",
        "]\n",
        "\n",
        "# Step 4: Perform Named Entity Recognition (NER)\n",
        "print(\"🔍 Named Entity Recognition Results:\\n\")\n",
        "for review in reviews:\n",
        "    doc = nlp(review)\n",
        "    print(f\"Review: {review}\")\n",
        "    for ent in doc.ents:\n",
        "        print(f\" - {ent.text} ({ent.label_})\")\n",
        "    print(\"-\" * 50)\n",
        "\n",
        "# Step 5: Simple Rule-Based Sentiment Analysis\n",
        "positive_words = [\"love\", \"amazing\", \"incredible\", \"perfect\", \"smoothly\"]\n",
        "negative_words = [\"disappointing\", \"slow\", \"overpriced\", \"unhappy\", \"bad\"]\n",
        "\n",
        "def analyze_sentiment(text):\n",
        "    text_lower = text.lower()\n",
        "    pos = sum(word in text_lower for word in positive_words)\n",
        "    neg = sum(word in text_lower for word in negative_words)\n",
        "    if pos > neg:\n",
        "        return \"Positive 😊\"\n",
        "    elif neg > pos:\n",
        "        return \"Negative 😞\"\n",
        "    else:\n",
        "        return \"Neutral 😐\"\n",
        "\n",
        "print(\"\\n💬 Sentiment Analysis Results:\\n\")\n",
        "for review in reviews:\n",
        "    sentiment = analyze_sentiment(review)\n",
        "    print(f\"Review: {review}\")\n",
        "    print(f\" → Sentiment: {sentiment}\")\n",
        "    print(\"-\" * 50)\n",
        "\n",
        "# Step 6: Visualize Entities (Optional)\n",
        "# This works best inside Colab if you enable HTML display\n",
        "from IPython.core.display import display, HTML\n",
        "\n",
        "doc = nlp(reviews[0])\n",
        "html = displacy.render(doc, style=\"ent\")\n",
        "display(HTML(html))\n"
      ]
    }
  ]
}